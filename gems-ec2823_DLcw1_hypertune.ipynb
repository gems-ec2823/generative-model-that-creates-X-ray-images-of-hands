{
  "nbformat": 4,
  "nbformat_minor": 0,
  "metadata": {
    "colab": {
      "provenance": [],
      "gpuClass": "premium",
      "gpuType": "V100"
    },
    "kernelspec": {
      "name": "python3",
      "display_name": "Python 3"
    },
    "language_info": {
      "name": "python"
    },
    "accelerator": "GPU"
  },
  "cells": [
    {
      "cell_type": "markdown",
      "source": [
        "<img src=\"https://drive.google.com/uc?id=1DvKhAzLtk-Hilu7Le73WAOz2EBR5d41G\" width=\"500\"/>\n",
        "\n",
        "---\n"
      ],
      "metadata": {
        "id": "9YehS8enAmDn"
      }
    },
    {
      "cell_type": "markdown",
      "source": [
        "### ***Name***: *Elias CHERIF*\n",
        "### ***username***: *gems-ec2823*\n",
        "### ***CID***: *02522867*\n",
        "\n",
        "\n",
        "You can save this notebook in Colab by clicking `File` from the top menu, and then selecting `Download --> Download .ipynb`\n",
        "\n",
        "Make sure that when you save your notebook you have all the cells executed and you can see the outputs (livelossplot graphs, etc)"
      ],
      "metadata": {
        "id": "gD4VUfPGx8Oy"
      }
    },
    {
      "cell_type": "markdown",
      "source": [
        "## Hyperparameter tunning notebook\n",
        "\n",
        "Explain the steps and tests you do.\n",
        "\n",
        "Organise it well to show how the data you present here has helped you design your final network hyperparameters (that you will use for the final training in the `yourusername_DLcw1_clean.ipynb` notebook)."
      ],
      "metadata": {
        "id": "KyZTroXCzEop"
      }
    },
    {
      "cell_type": "markdown",
      "source": [
        "add text blocks as you need"
      ],
      "metadata": {
        "id": "2Z09WOTKPCUw"
      }
    },
    {
      "cell_type": "code",
      "source": [
        "!pip install pycm livelossplot\n",
        "%pylab inline"
      ],
      "metadata": {
        "id": "J7r0q-LczFP3",
        "outputId": "89c6d213-6943-47a8-b4be-f70d554ec629",
        "colab": {
          "base_uri": "https://localhost:8080/"
        }
      },
      "execution_count": 1,
      "outputs": [
        {
          "output_type": "stream",
          "name": "stdout",
          "text": [
            "Collecting pycm\n",
            "  Downloading pycm-4.0-py3-none-any.whl (70 kB)\n",
            "\u001b[2K     \u001b[90m━━━━━━━━━━━━━━━━━━━━━━━━━━━━━━━━━━━━━━━━\u001b[0m \u001b[32m70.3/70.3 kB\u001b[0m \u001b[31m2.0 MB/s\u001b[0m eta \u001b[36m0:00:00\u001b[0m\n",
            "\u001b[?25hCollecting livelossplot\n",
            "  Downloading livelossplot-0.5.5-py3-none-any.whl (22 kB)\n",
            "Collecting art>=1.8 (from pycm)\n",
            "  Downloading art-6.1-py3-none-any.whl (599 kB)\n",
            "\u001b[2K     \u001b[90m━━━━━━━━━━━━━━━━━━━━━━━━━━━━━━━━━━━━━━━━\u001b[0m \u001b[32m599.8/599.8 kB\u001b[0m \u001b[31m15.1 MB/s\u001b[0m eta \u001b[36m0:00:00\u001b[0m\n",
            "\u001b[?25hRequirement already satisfied: numpy>=1.9.0 in /usr/local/lib/python3.10/dist-packages (from pycm) (1.23.5)\n",
            "Requirement already satisfied: matplotlib in /usr/local/lib/python3.10/dist-packages (from livelossplot) (3.7.1)\n",
            "Requirement already satisfied: bokeh in /usr/local/lib/python3.10/dist-packages (from livelossplot) (3.3.1)\n",
            "Requirement already satisfied: Jinja2>=2.9 in /usr/local/lib/python3.10/dist-packages (from bokeh->livelossplot) (3.1.2)\n",
            "Requirement already satisfied: contourpy>=1 in /usr/local/lib/python3.10/dist-packages (from bokeh->livelossplot) (1.2.0)\n",
            "Requirement already satisfied: packaging>=16.8 in /usr/local/lib/python3.10/dist-packages (from bokeh->livelossplot) (23.2)\n",
            "Requirement already satisfied: pandas>=1.2 in /usr/local/lib/python3.10/dist-packages (from bokeh->livelossplot) (1.5.3)\n",
            "Requirement already satisfied: pillow>=7.1.0 in /usr/local/lib/python3.10/dist-packages (from bokeh->livelossplot) (9.4.0)\n",
            "Requirement already satisfied: PyYAML>=3.10 in /usr/local/lib/python3.10/dist-packages (from bokeh->livelossplot) (6.0.1)\n",
            "Requirement already satisfied: tornado>=5.1 in /usr/local/lib/python3.10/dist-packages (from bokeh->livelossplot) (6.3.2)\n",
            "Requirement already satisfied: xyzservices>=2021.09.1 in /usr/local/lib/python3.10/dist-packages (from bokeh->livelossplot) (2023.10.1)\n",
            "Requirement already satisfied: cycler>=0.10 in /usr/local/lib/python3.10/dist-packages (from matplotlib->livelossplot) (0.12.1)\n",
            "Requirement already satisfied: fonttools>=4.22.0 in /usr/local/lib/python3.10/dist-packages (from matplotlib->livelossplot) (4.45.1)\n",
            "Requirement already satisfied: kiwisolver>=1.0.1 in /usr/local/lib/python3.10/dist-packages (from matplotlib->livelossplot) (1.4.5)\n",
            "Requirement already satisfied: pyparsing>=2.3.1 in /usr/local/lib/python3.10/dist-packages (from matplotlib->livelossplot) (3.1.1)\n",
            "Requirement already satisfied: python-dateutil>=2.7 in /usr/local/lib/python3.10/dist-packages (from matplotlib->livelossplot) (2.8.2)\n",
            "Requirement already satisfied: MarkupSafe>=2.0 in /usr/local/lib/python3.10/dist-packages (from Jinja2>=2.9->bokeh->livelossplot) (2.1.3)\n",
            "Requirement already satisfied: pytz>=2020.1 in /usr/local/lib/python3.10/dist-packages (from pandas>=1.2->bokeh->livelossplot) (2023.3.post1)\n",
            "Requirement already satisfied: six>=1.5 in /usr/local/lib/python3.10/dist-packages (from python-dateutil>=2.7->matplotlib->livelossplot) (1.16.0)\n",
            "Installing collected packages: art, pycm, livelossplot\n",
            "Successfully installed art-6.1 livelossplot-0.5.5 pycm-4.0\n",
            "Populating the interactive namespace from numpy and matplotlib\n"
          ]
        }
      ]
    },
    {
      "cell_type": "code",
      "source": [
        "from tqdm import tqdm\n",
        "import numpy as np\n",
        "import torch\n",
        "import torch.nn as nn\n",
        "import torch.nn.functional as F\n",
        "import torch\n",
        "from torchvision import transforms, datasets\n",
        "from torch.utils.data import DataLoader, Dataset\n",
        "from PIL import Image\n",
        "import os\n",
        "import matplotlib.pyplot as plt\n",
        "import torch.optim as optim\n",
        "import torch.utils.data as data\n",
        "import torchvision.transforms as transforms\n"
      ],
      "metadata": {
        "id": "WIXosiPvWLFw"
      },
      "execution_count": 2,
      "outputs": []
    },
    {
      "cell_type": "code",
      "source": [
        "from google.colab import drive\n",
        "drive.mount('/content/drive')"
      ],
      "metadata": {
        "id": "ekcmPh7PWLIg",
        "outputId": "c863435a-a193-4472-93c5-462f8c1ecd14",
        "colab": {
          "base_uri": "https://localhost:8080/"
        }
      },
      "execution_count": 3,
      "outputs": [
        {
          "output_type": "stream",
          "name": "stdout",
          "text": [
            "Mounted at /content/drive\n"
          ]
        }
      ]
    },
    {
      "cell_type": "code",
      "source": [
        "class CustomImageDataset(Dataset):\n",
        "    def __init__(self, images_dir, transform=None):\n",
        "        self.images_dir = images_dir\n",
        "        self.images = os.listdir(images_dir)\n",
        "        self.transform = transform\n",
        "\n",
        "    def __len__(self):\n",
        "        return len(self.images)\n",
        "\n",
        "    def __getitem__(self, idx):\n",
        "        img_path = os.path.join(self.images_dir, self.images[idx])\n",
        "        image = Image.open(img_path).convert('L')\n",
        "        if self.transform:\n",
        "            image = self.transform(image)\n",
        "        return image\n",
        "\n",
        "chemin_images = '/content/drive/My Drive/real_hands'\n",
        "\n",
        "transformations = transforms.Compose([\n",
        "    transforms.ToTensor(), transforms.Normalize(mean=[0.5], std=[0.5])\n",
        "])\n",
        "\n",
        "batch_size = 128\n",
        "dataset = CustomImageDataset(images_dir=chemin_images, transform=transformations)\n",
        "data_loader = DataLoader(dataset, batch_size=batch_size, shuffle=True)\n",
        "\n",
        "images = next(iter(data_loader))\n",
        "plt.imshow(images[0].squeeze(), cmap='gray')\n",
        "plt.show()\n",
        "\n",
        "print('Nombre de lots = ' + str(len(data_loader)))\n",
        "print('Nombre d\\'images = ' + str(len(dataset)))"
      ],
      "metadata": {
        "id": "sLXtTVGeWLK3",
        "outputId": "d05e8ab5-5d33-4c55-d069-fcaa04904ae8",
        "colab": {
          "base_uri": "https://localhost:8080/",
          "height": 465
        }
      },
      "execution_count": 4,
      "outputs": [
        {
          "output_type": "display_data",
          "data": {
            "text/plain": [
              "<Figure size 640x480 with 1 Axes>"
            ],
            "image/png": "[encoded data removed]"
          },
          "metadata": {}
        },
        {
          "output_type": "stream",
          "name": "stdout",
          "text": [
            "Nombre de lots = 63\n",
            "Nombre d'images = 8010\n"
          ]
        }
      ]
    },
    {
      "cell_type": "code",
      "source": [
        "images = images.float()\n",
        "\n",
        "min_val = images.min().item()\n",
        "max_val = images.max().item()\n",
        "mean_val = images.mean().item()\n",
        "std_val = images.std().item()\n",
        "\n",
        "print(\"min/max:\", min_val, \"/\", max_val)\n",
        "print(\"mean: \", mean_val)\n",
        "print(\"std: \", std_val)"
      ],
      "metadata": {
        "id": "tp_wYnaIWLS3",
        "outputId": "e61db830-c12e-40b4-ace4-3439faecb411",
        "colab": {
          "base_uri": "https://localhost:8080/"
        }
      },
      "execution_count": 5,
      "outputs": [
        {
          "output_type": "stream",
          "name": "stdout",
          "text": [
            "min/max: -1.0 / 1.0\n",
            "mean:  -0.4831969738006592\n",
            "std:  0.6114926934242249\n"
          ]
        }
      ]
    },
    {
      "cell_type": "markdown",
      "source": [
        "We're going to try out a VAE to see its potential"
      ],
      "metadata": {
        "id": "dZfvpq-CEl8G"
      }
    },
    {
      "cell_type": "code",
      "source": [
        "class VAE_Encoder(nn.Module):\n",
        "  def __init__(self):\n",
        "    '''\n",
        "    Class contains the Encoder (image -> latent).\n",
        "    '''\n",
        "\n",
        "    super(VAE_Encoder, self).__init__()\n",
        "    self.layer1 = nn.Sequential(\n",
        "        nn.Linear(32*32, 512),\n",
        "        nn.ReLU()\n",
        "    )\n",
        "    self.layer2 = nn.Sequential(\n",
        "        nn.Linear(512, 256),\n",
        "        nn.ReLU()\n",
        "    )\n",
        "\n",
        "    self.layer3 = nn.Sequential(\n",
        "        nn.Linear(256, 128),\n",
        "        nn.ReLU()\n",
        "    )\n",
        "    self.layerMu = nn.Sequential(\n",
        "        nn.Linear(128, 10),\n",
        "\n",
        "    )\n",
        "\n",
        "    self.layerSigma = nn.Sequential(\n",
        "        nn.Linear(128, 10),\n",
        "\n",
        "    )\n",
        "\n",
        "  def forward(self, x):  # Custom pytorch modules should follow this structure\n",
        "    '''\n",
        "    x: [float] the MNIST image\n",
        "    '''\n",
        "\n",
        "    x = torch.flatten(x, start_dim = 1)  # Reshape the input into a vector (nD to 1D)\n",
        "    x = self.layer1(x)\n",
        "    x = self.layer2(x)\n",
        "    x = self.layer3(x)\n",
        "    mu =  self.layerMu(x)\n",
        "    sigma = torch.exp(self.layerSigma(x))\n",
        "    return mu, sigma"
      ],
      "metadata": {
        "id": "XtLSttU_WLVQ"
      },
      "execution_count": 7,
      "outputs": []
    },
    {
      "cell_type": "code",
      "source": [
        "encoder = VAE_Encoder()\n",
        "\n",
        "images = next(iter(data_loader))  # Get the first batch of images\n",
        "print(images[0].shape)  # Get the first image from the batch\n",
        "mu, sigma = encoder(images[0].unsqueeze(0))  # Are mu and sigma correct\n",
        "\n",
        "print(mu.detach())\n",
        "print(sigma.detach())"
      ],
      "metadata": {
        "id": "oocmPfnHWLXz",
        "outputId": "d7b22ea1-f9ea-4fc4-f44b-250f58b578be",
        "colab": {
          "base_uri": "https://localhost:8080/"
        }
      },
      "execution_count": 8,
      "outputs": [
        {
          "output_type": "stream",
          "name": "stdout",
          "text": [
            "torch.Size([1, 32, 32])\n",
            "tensor([[ 0.0757,  0.0072,  0.0129, -0.0911,  0.0210,  0.0178, -0.0784, -0.1488,\n",
            "         -0.0099,  0.1302]])\n",
            "tensor([[1.0070, 1.0144, 0.9639, 1.0287, 1.0099, 0.9945, 1.0059, 1.0837, 1.0281,\n",
            "         1.0361]])\n"
          ]
        }
      ]
    },
    {
      "cell_type": "code",
      "source": [
        "class VAE_Decoder(nn.Module):\n",
        "  def __init__(self):\n",
        "    '''\n",
        "    Class contains the Decoder (latent -> image).\n",
        "    '''\n",
        "\n",
        "    super(VAE_Decoder, self).__init__()\n",
        "\n",
        "    self.layerLatent = nn.Sequential(\n",
        "        nn.Linear(10, 128),\n",
        "\n",
        "    )\n",
        "\n",
        "    self.layer1 = nn.Sequential(\n",
        "        nn.Linear(128, 256),\n",
        "        nn.ReLU()\n",
        "    )\n",
        "\n",
        "    self.layer2 = nn.Sequential(\n",
        "        nn.Linear(256, 512),\n",
        "        nn.ReLU()\n",
        "    )\n",
        "\n",
        "    self.layer3 = nn.Sequential(\n",
        "        nn.Linear(512, 32*32),\n",
        "        nn.Sigmoid()\n",
        "    )\n",
        "\n",
        "  def forward(self, z):\n",
        "    '''\n",
        "    x: [float] the MNIST image\n",
        "    '''\n",
        "\n",
        "    z = self.layerLatent(z)\n",
        "    z = self.layer1(z)\n",
        "    z = self.layer2(z)\n",
        "    z = self.layer3(z)\n",
        "    return z.reshape((-1,1,32,32))"
      ],
      "metadata": {
        "id": "iO0jRO0IWLag"
      },
      "execution_count": 11,
      "outputs": []
    },
    {
      "cell_type": "code",
      "source": [
        "class VAE(nn.Module):\n",
        "  def __init__(self, device):\n",
        "    '''\n",
        "    Class combines the Encoder and the Decoder with a VAE latent space.\n",
        "    '''\n",
        "    super(VAE, self).__init__()\n",
        "    self.device = device\n",
        "    self.encoder = VAE_Encoder()\n",
        "    self.decoder = VAE_Decoder()\n",
        "    self.distribution = torch.distributions.Normal(0, 1)\n",
        "\n",
        "  def sample_latent_space(self, mu, sigma):\n",
        "    z = mu + sigma * self.distribution.sample(mu.shape).to(self.device)\n",
        "    kl_div = (sigma**2 + mu**2 - torch.log(sigma) - 1/2).sum()\n",
        "    return z, kl_div\n",
        "\n",
        "  def forward(self, x):\n",
        "    '''\n",
        "    x - [float] A batch of images from the data-loader\n",
        "    '''\n",
        "\n",
        "    mu, sigma = self.encoder(x)\n",
        "    z, kl_div = self.sample_latent_space(mu, sigma)\n",
        "    z = self.decoder(z)\n",
        "    return z, kl_div"
      ],
      "metadata": {
        "id": "XMP2jmEgWLdT"
      },
      "execution_count": 13,
      "outputs": []
    },
    {
      "cell_type": "code",
      "source": [
        "vae = VAE('cpu')\n",
        "\n",
        "images = next(iter(data_loader))  # Get the first batch of images\n",
        "print(images[0].shape)  # Get the first image from the batch\n",
        "recon, _ = vae(images[10].unsqueeze(0))  # Are mu and sigma correct\n",
        "\n",
        "plt.figure(); plt.imshow(images[0].squeeze(), 'gray')\n",
        "plt.figure(); plt.imshow(recon.cpu().detach().squeeze(), 'gray')"
      ],
      "metadata": {
        "id": "fBfo6i_1WLfo",
        "outputId": "63a90426-66a0-41bd-be39-cda142cf2b07",
        "colab": {
          "base_uri": "https://localhost:8080/",
          "height": 878
        }
      },
      "execution_count": 14,
      "outputs": [
        {
          "output_type": "stream",
          "name": "stdout",
          "text": [
            "torch.Size([1, 32, 32])\n"
          ]
        },
        {
          "output_type": "execute_result",
          "data": {
            "text/plain": [
              "<matplotlib.image.AxesImage at 0x7b1cce85d930>"
            ]
          },
          "metadata": {},
          "execution_count": 14
        },
        {
          "output_type": "display_data",
          "data": {
            "text/plain": [
              "<Figure size 640x480 with 1 Axes>"
            ],
            "image/png": "[encoded data removed]"
          },
          "metadata": {}
        },
        {
          "output_type": "display_data",
          "data": {
            "text/plain": [
              "<Figure size 640x480 with 1 Axes>"
            ],
            "image/png": "[encoded data removed]"
          },
          "metadata": {}
        }
      ]
    },
    {
      "cell_type": "code",
      "source": [
        "from tqdm import tqdm\n",
        "import torch\n",
        "\n",
        "def train(autoencoder, data, kl_div_on=True, epochs=10, device='cpu'):\n",
        "    opt = torch.optim.Adam(autoencoder.parameters())\n",
        "    loss_history = []\n",
        "\n",
        "    for epoch in range(epochs):  # Run data over numerous epochs\n",
        "        total_loss = 0\n",
        "        for batch in tqdm(data):  # Iterate over the batches of images and labels\n",
        "            batch = batch.to(device)  # Send batch of images to the GPU\n",
        "            opt.zero_grad()  # Set optimiser grad to 0\n",
        "            x_hat, KL = autoencoder(batch)  # Generate predicted images (x_hat) by running batch of images through autoencoder\n",
        "            loss = ((batch - x_hat)**2).sum() + KL  # Calculate combined loss\n",
        "            loss.backward()  # Back-propagate\n",
        "            opt.step()  # Step the optimiser\n",
        "            total_loss += loss.item()\n",
        "\n",
        "        average_loss = total_loss / len(data)\n",
        "        loss_history.append(average_loss)\n",
        "        print(f'Epoch {epoch+1}, Loss: {average_loss}')\n",
        "\n",
        "    return autoencoder, loss_history  # Return the trained autoencoder and the loss history\n",
        "device = 'cuda'\n",
        "\n",
        "dims_latent = 2\n",
        "vae = VAE(device).to(device)\n",
        "vae, loss_history  = train(vae, data_loader, epochs=50, device=device)\n",
        "\n",
        "print('done')\n",
        "\n"
      ],
      "metadata": {
        "id": "ZUbZUqNeWLif",
        "outputId": "000682bf-f463-4380-e5b8-1898e41417fd",
        "colab": {
          "base_uri": "https://localhost:8080/"
        }
      },
      "execution_count": 19,
      "outputs": [
        {
          "metadata": {
            "tags": null
          },
          "name": "stderr",
          "output_type": "stream",
          "text": [
            "100%|██████████| 63/63 [00:12<00:00,  5.15it/s]\n"
          ]
        },
        {
          "metadata": {
            "tags": null
          },
          "name": "stdout",
          "output_type": "stream",
          "text": [
            "Epoch 1, Loss: 83589.75452628969\n"
          ]
        },
        {
          "metadata": {
            "tags": null
          },
          "name": "stderr",
          "output_type": "stream",
          "text": [
            "100%|██████████| 63/63 [00:15<00:00,  4.08it/s]\n"
          ]
        },
        {
          "metadata": {
            "tags": null
          },
          "name": "stdout",
          "output_type": "stream",
          "text": [
            "Epoch 2, Loss: 72369.75161210318\n"
          ]
        },
        {
          "metadata": {
            "tags": null
          },
          "name": "stderr",
          "output_type": "stream",
          "text": [
            "100%|██████████| 63/63 [00:13<00:00,  4.69it/s]\n"
          ]
        },
        {
          "metadata": {
            "tags": null
          },
          "name": "stdout",
          "output_type": "stream",
          "text": [
            "Epoch 3, Loss: 71351.05481150794\n"
          ]
        },
        {
          "metadata": {
            "tags": null
          },
          "name": "stderr",
          "output_type": "stream",
          "text": [
            "100%|██████████| 63/63 [00:12<00:00,  4.87it/s]\n"
          ]
        },
        {
          "metadata": {
            "tags": null
          },
          "name": "stdout",
          "output_type": "stream",
          "text": [
            "Epoch 4, Loss: 70775.36005704365\n"
          ]
        },
        {
          "metadata": {
            "tags": null
          },
          "name": "stderr",
          "output_type": "stream",
          "text": [
            "100%|██████████| 63/63 [00:12<00:00,  5.12it/s]\n"
          ]
        },
        {
          "metadata": {
            "tags": null
          },
          "name": "stdout",
          "output_type": "stream",
          "text": [
            "Epoch 5, Loss: 70499.78391617064\n"
          ]
        },
        {
          "metadata": {
            "tags": null
          },
          "name": "stderr",
          "output_type": "stream",
          "text": [
            "100%|██████████| 63/63 [00:12<00:00,  5.11it/s]\n"
          ]
        },
        {
          "metadata": {
            "tags": null
          },
          "name": "stdout",
          "output_type": "stream",
          "text": [
            "Epoch 6, Loss: 70316.22526041667\n"
          ]
        },
        {
          "metadata": {
            "tags": null
          },
          "name": "stderr",
          "output_type": "stream",
          "text": [
            "100%|██████████| 63/63 [00:12<00:00,  5.19it/s]\n"
          ]
        },
        {
          "metadata": {
            "tags": null
          },
          "name": "stdout",
          "output_type": "stream",
          "text": [
            "Epoch 7, Loss: 70113.79191468254\n"
          ]
        },
        {
          "metadata": {
            "tags": null
          },
          "name": "stderr",
          "output_type": "stream",
          "text": [
            "100%|██████████| 63/63 [00:12<00:00,  5.16it/s]\n"
          ]
        },
        {
          "metadata": {
            "tags": null
          },
          "name": "stdout",
          "output_type": "stream",
          "text": [
            "Epoch 8, Loss: 69971.66958085318\n"
          ]
        },
        {
          "metadata": {
            "tags": null
          },
          "name": "stderr",
          "output_type": "stream",
          "text": [
            "100%|██████████| 63/63 [00:12<00:00,  5.07it/s]\n"
          ]
        },
        {
          "metadata": {
            "tags": null
          },
          "name": "stdout",
          "output_type": "stream",
          "text": [
            "Epoch 9, Loss: 69832.56312003969\n"
          ]
        },
        {
          "metadata": {
            "tags": null
          },
          "name": "stderr",
          "output_type": "stream",
          "text": [
            "100%|██████████| 63/63 [00:12<00:00,  5.00it/s]\n"
          ]
        },
        {
          "metadata": {
            "tags": null
          },
          "name": "stdout",
          "output_type": "stream",
          "text": [
            "Epoch 10, Loss: 69772.32564484127\n"
          ]
        },
        {
          "metadata": {
            "tags": null
          },
          "name": "stderr",
          "output_type": "stream",
          "text": [
            "100%|██████████| 63/63 [00:12<00:00,  5.09it/s]\n"
          ]
        },
        {
          "metadata": {
            "tags": null
          },
          "name": "stdout",
          "output_type": "stream",
          "text": [
            "Epoch 11, Loss: 69706.96577380953\n"
          ]
        },
        {
          "metadata": {
            "tags": null
          },
          "name": "stderr",
          "output_type": "stream",
          "text": [
            "100%|██████████| 63/63 [00:12<00:00,  5.14it/s]\n"
          ]
        },
        {
          "metadata": {
            "tags": null
          },
          "name": "stdout",
          "output_type": "stream",
          "text": [
            "Epoch 12, Loss: 69650.47910466269\n"
          ]
        },
        {
          "metadata": {
            "tags": null
          },
          "name": "stderr",
          "output_type": "stream",
          "text": [
            "100%|██████████| 63/63 [00:11<00:00,  5.26it/s]\n"
          ]
        },
        {
          "metadata": {
            "tags": null
          },
          "name": "stdout",
          "output_type": "stream",
          "text": [
            "Epoch 13, Loss: 69610.69698660714\n"
          ]
        },
        {
          "metadata": {
            "tags": null
          },
          "name": "stderr",
          "output_type": "stream",
          "text": [
            "100%|██████████| 63/63 [00:13<00:00,  4.77it/s]\n"
          ]
        },
        {
          "metadata": {
            "tags": null
          },
          "name": "stdout",
          "output_type": "stream",
          "text": [
            "Epoch 14, Loss: 69577.96831597222\n"
          ]
        },
        {
          "metadata": {
            "tags": null
          },
          "name": "stderr",
          "output_type": "stream",
          "text": [
            "100%|██████████| 63/63 [00:12<00:00,  5.22it/s]\n"
          ]
        },
        {
          "metadata": {
            "tags": null
          },
          "name": "stdout",
          "output_type": "stream",
          "text": [
            "Epoch 15, Loss: 69549.43644593254\n"
          ]
        },
        {
          "metadata": {
            "tags": null
          },
          "name": "stderr",
          "output_type": "stream",
          "text": [
            "100%|██████████| 63/63 [00:12<00:00,  5.05it/s]\n"
          ]
        },
        {
          "metadata": {
            "tags": null
          },
          "name": "stdout",
          "output_type": "stream",
          "text": [
            "Epoch 16, Loss: 69527.93074156746\n"
          ]
        },
        {
          "metadata": {
            "tags": null
          },
          "name": "stderr",
          "output_type": "stream",
          "text": [
            "100%|██████████| 63/63 [00:12<00:00,  5.04it/s]\n"
          ]
        },
        {
          "metadata": {
            "tags": null
          },
          "name": "stdout",
          "output_type": "stream",
          "text": [
            "Epoch 17, Loss: 69504.01977926587\n"
          ]
        },
        {
          "output_type": "stream",
          "name": "stderr",
          "text": [
            "100%|██████████| 63/63 [00:12<00:00,  5.22it/s]\n"
          ]
        },
        {
          "output_type": "stream",
          "name": "stdout",
          "text": [
            "Epoch 18, Loss: 69479.44159226191\n"
          ]
        },
        {
          "output_type": "stream",
          "name": "stderr",
          "text": [
            "100%|██████████| 63/63 [00:12<00:00,  5.15it/s]\n"
          ]
        },
        {
          "output_type": "stream",
          "name": "stdout",
          "text": [
            "Epoch 19, Loss: 69447.82806299604\n"
          ]
        },
        {
          "output_type": "stream",
          "name": "stderr",
          "text": [
            "100%|██████████| 63/63 [00:11<00:00,  5.34it/s]\n"
          ]
        },
        {
          "output_type": "stream",
          "name": "stdout",
          "text": [
            "Epoch 20, Loss: 69449.68601190476\n"
          ]
        },
        {
          "output_type": "stream",
          "name": "stderr",
          "text": [
            "100%|██████████| 63/63 [00:12<00:00,  5.21it/s]\n"
          ]
        },
        {
          "output_type": "stream",
          "name": "stdout",
          "text": [
            "Epoch 21, Loss: 69449.34939236111\n"
          ]
        },
        {
          "output_type": "stream",
          "name": "stderr",
          "text": [
            "100%|██████████| 63/63 [00:12<00:00,  5.18it/s]\n"
          ]
        },
        {
          "output_type": "stream",
          "name": "stdout",
          "text": [
            "Epoch 22, Loss: 69424.70969742064\n"
          ]
        },
        {
          "output_type": "stream",
          "name": "stderr",
          "text": [
            "100%|██████████| 63/63 [00:12<00:00,  5.19it/s]\n"
          ]
        },
        {
          "output_type": "stream",
          "name": "stdout",
          "text": [
            "Epoch 23, Loss: 69409.36700148809\n"
          ]
        },
        {
          "output_type": "stream",
          "name": "stderr",
          "text": [
            "100%|██████████| 63/63 [00:12<00:00,  5.20it/s]\n"
          ]
        },
        {
          "output_type": "stream",
          "name": "stdout",
          "text": [
            "Epoch 24, Loss: 69397.75440228175\n"
          ]
        },
        {
          "output_type": "stream",
          "name": "stderr",
          "text": [
            "100%|██████████| 63/63 [00:12<00:00,  5.22it/s]\n"
          ]
        },
        {
          "output_type": "stream",
          "name": "stdout",
          "text": [
            "Epoch 25, Loss: 69378.59821428571\n"
          ]
        },
        {
          "output_type": "stream",
          "name": "stderr",
          "text": [
            "100%|██████████| 63/63 [00:12<00:00,  5.03it/s]\n"
          ]
        },
        {
          "output_type": "stream",
          "name": "stdout",
          "text": [
            "Epoch 26, Loss: 69360.08072916667\n"
          ]
        },
        {
          "output_type": "stream",
          "name": "stderr",
          "text": [
            "100%|██████████| 63/63 [00:12<00:00,  5.19it/s]\n"
          ]
        },
        {
          "output_type": "stream",
          "name": "stdout",
          "text": [
            "Epoch 27, Loss: 69355.04861111111\n"
          ]
        },
        {
          "output_type": "stream",
          "name": "stderr",
          "text": [
            "100%|██████████| 63/63 [00:12<00:00,  5.13it/s]\n"
          ]
        },
        {
          "output_type": "stream",
          "name": "stdout",
          "text": [
            "Epoch 28, Loss: 69343.87307787698\n"
          ]
        },
        {
          "output_type": "stream",
          "name": "stderr",
          "text": [
            "100%|██████████| 63/63 [00:12<00:00,  5.15it/s]\n"
          ]
        },
        {
          "output_type": "stream",
          "name": "stdout",
          "text": [
            "Epoch 29, Loss: 69336.79408482143\n"
          ]
        },
        {
          "output_type": "stream",
          "name": "stderr",
          "text": [
            "100%|██████████| 63/63 [00:12<00:00,  5.15it/s]\n"
          ]
        },
        {
          "output_type": "stream",
          "name": "stdout",
          "text": [
            "Epoch 30, Loss: 69339.64446924604\n"
          ]
        },
        {
          "output_type": "stream",
          "name": "stderr",
          "text": [
            "100%|██████████| 63/63 [00:11<00:00,  5.27it/s]\n"
          ]
        },
        {
          "output_type": "stream",
          "name": "stdout",
          "text": [
            "Epoch 31, Loss: 69315.55158730158\n"
          ]
        },
        {
          "output_type": "stream",
          "name": "stderr",
          "text": [
            "100%|██████████| 63/63 [00:12<00:00,  5.17it/s]\n"
          ]
        },
        {
          "output_type": "stream",
          "name": "stdout",
          "text": [
            "Epoch 32, Loss: 69315.23976934524\n"
          ]
        },
        {
          "output_type": "stream",
          "name": "stderr",
          "text": [
            "100%|██████████| 63/63 [00:12<00:00,  5.23it/s]\n"
          ]
        },
        {
          "output_type": "stream",
          "name": "stdout",
          "text": [
            "Epoch 33, Loss: 69299.28056795635\n"
          ]
        },
        {
          "output_type": "stream",
          "name": "stderr",
          "text": [
            "100%|██████████| 63/63 [00:12<00:00,  5.25it/s]\n"
          ]
        },
        {
          "output_type": "stream",
          "name": "stdout",
          "text": [
            "Epoch 34, Loss: 69305.29495287698\n"
          ]
        },
        {
          "output_type": "stream",
          "name": "stderr",
          "text": [
            "100%|██████████| 63/63 [00:12<00:00,  5.20it/s]\n"
          ]
        },
        {
          "output_type": "stream",
          "name": "stdout",
          "text": [
            "Epoch 35, Loss: 69277.60794890873\n"
          ]
        },
        {
          "output_type": "stream",
          "name": "stderr",
          "text": [
            "100%|██████████| 63/63 [00:11<00:00,  5.27it/s]\n"
          ]
        },
        {
          "output_type": "stream",
          "name": "stdout",
          "text": [
            "Epoch 36, Loss: 69278.95498511905\n"
          ]
        },
        {
          "output_type": "stream",
          "name": "stderr",
          "text": [
            "100%|██████████| 63/63 [00:11<00:00,  5.25it/s]\n"
          ]
        },
        {
          "output_type": "stream",
          "name": "stdout",
          "text": [
            "Epoch 37, Loss: 69274.36049107143\n"
          ]
        },
        {
          "output_type": "stream",
          "name": "stderr",
          "text": [
            "100%|██████████| 63/63 [00:12<00:00,  5.17it/s]\n"
          ]
        },
        {
          "output_type": "stream",
          "name": "stdout",
          "text": [
            "Epoch 38, Loss: 69272.6546999008\n"
          ]
        },
        {
          "output_type": "stream",
          "name": "stderr",
          "text": [
            "100%|██████████| 63/63 [00:12<00:00,  5.22it/s]\n"
          ]
        },
        {
          "output_type": "stream",
          "name": "stdout",
          "text": [
            "Epoch 39, Loss: 69252.65587797618\n"
          ]
        },
        {
          "output_type": "stream",
          "name": "stderr",
          "text": [
            "100%|██████████| 63/63 [00:12<00:00,  5.25it/s]\n"
          ]
        },
        {
          "output_type": "stream",
          "name": "stdout",
          "text": [
            "Epoch 40, Loss: 69254.70411706349\n"
          ]
        },
        {
          "output_type": "stream",
          "name": "stderr",
          "text": [
            "100%|██████████| 63/63 [00:12<00:00,  5.21it/s]\n"
          ]
        },
        {
          "output_type": "stream",
          "name": "stdout",
          "text": [
            "Epoch 41, Loss: 69232.21670386905\n"
          ]
        },
        {
          "output_type": "stream",
          "name": "stderr",
          "text": [
            "100%|██████████| 63/63 [00:12<00:00,  5.21it/s]\n"
          ]
        },
        {
          "output_type": "stream",
          "name": "stdout",
          "text": [
            "Epoch 42, Loss: 69233.25917658731\n"
          ]
        },
        {
          "output_type": "stream",
          "name": "stderr",
          "text": [
            "100%|██████████| 63/63 [00:12<00:00,  5.16it/s]\n"
          ]
        },
        {
          "output_type": "stream",
          "name": "stdout",
          "text": [
            "Epoch 43, Loss: 69237.50241815476\n"
          ]
        },
        {
          "output_type": "stream",
          "name": "stderr",
          "text": [
            "100%|██████████| 63/63 [00:12<00:00,  5.17it/s]\n"
          ]
        },
        {
          "output_type": "stream",
          "name": "stdout",
          "text": [
            "Epoch 44, Loss: 69241.49094742064\n"
          ]
        },
        {
          "output_type": "stream",
          "name": "stderr",
          "text": [
            "100%|██████████| 63/63 [00:12<00:00,  5.18it/s]\n"
          ]
        },
        {
          "output_type": "stream",
          "name": "stdout",
          "text": [
            "Epoch 45, Loss: 69233.04086061507\n"
          ]
        },
        {
          "output_type": "stream",
          "name": "stderr",
          "text": [
            "100%|██████████| 63/63 [00:11<00:00,  5.27it/s]\n"
          ]
        },
        {
          "output_type": "stream",
          "name": "stdout",
          "text": [
            "Epoch 46, Loss: 69216.47135416667\n"
          ]
        },
        {
          "output_type": "stream",
          "name": "stderr",
          "text": [
            "100%|██████████| 63/63 [00:11<00:00,  5.29it/s]\n"
          ]
        },
        {
          "output_type": "stream",
          "name": "stdout",
          "text": [
            "Epoch 47, Loss: 69214.48536706349\n"
          ]
        },
        {
          "output_type": "stream",
          "name": "stderr",
          "text": [
            "100%|██████████| 63/63 [00:11<00:00,  5.26it/s]\n"
          ]
        },
        {
          "output_type": "stream",
          "name": "stdout",
          "text": [
            "Epoch 48, Loss: 69211.82043650794\n"
          ]
        },
        {
          "output_type": "stream",
          "name": "stderr",
          "text": [
            "100%|██████████| 63/63 [00:12<00:00,  5.24it/s]\n"
          ]
        },
        {
          "output_type": "stream",
          "name": "stdout",
          "text": [
            "Epoch 49, Loss: 69203.53596230158\n"
          ]
        },
        {
          "output_type": "stream",
          "name": "stderr",
          "text": [
            "100%|██████████| 63/63 [00:12<00:00,  5.18it/s]"
          ]
        },
        {
          "output_type": "stream",
          "name": "stdout",
          "text": [
            "Epoch 50, Loss: 69193.84964037698\n",
            "done\n"
          ]
        },
        {
          "output_type": "stream",
          "name": "stderr",
          "text": [
            "\n"
          ]
        }
      ]
    },
    {
      "cell_type": "code",
      "source": [
        "import matplotlib.pyplot as plt\n",
        "\n",
        "plt.plot(loss_history)\n",
        "plt.title('VAE Training Loss')\n",
        "plt.xlabel('Epoch')\n",
        "plt.ylabel('Loss')\n",
        "plt.grid(True)\n",
        "plt.show()"
      ],
      "metadata": {
        "id": "wp3mnLe5b8ob",
        "outputId": "f2eeac1e-c41a-4380-9cab-1900a0385dc5",
        "colab": {
          "base_uri": "https://localhost:8080/",
          "height": 472
        }
      },
      "execution_count": 21,
      "outputs": [
        {
          "output_type": "display_data",
          "data": {
            "text/plain": [
              "<Figure size 640x480 with 1 Axes>"
            ],
            "image/png": "[encoded data removed]"
          },
          "metadata": {}
        }
      ]
    },
    {
      "cell_type": "code",
      "source": [
        "def generate_images(model, num_images):\n",
        "    with torch.no_grad():\n",
        "        z = torch.randn(num_images, 10).to(device)\n",
        "        generated_images = model.decoder(z)\n",
        "\n",
        "        return generated_images\n",
        "\n",
        "num_images = 10\n",
        "generated_images = generate_images(vae, num_images)\n",
        "\n",
        "generated_images = generated_images.view(num_images, 1, 32, 32)\n",
        "generated_images = generated_images.squeeze().cpu()\n",
        "\n",
        "fig, axes = plt.subplots(nrows=1, ncols=num_images, figsize=(18.5, 6))\n",
        "for i, ax in enumerate(axes.flat):\n",
        "    ax.imshow(generated_images[i].numpy(), cmap='gray')\n",
        "    ax.axis('off')\n",
        "plt.tight_layout()\n",
        "plt.show()"
      ],
      "metadata": {
        "id": "CsDb78tkW_10",
        "outputId": "d4798efb-0234-44f9-aea9-e1bb6dee1e3e",
        "colab": {
          "base_uri": "https://localhost:8080/",
          "height": 135
        }
      },
      "execution_count": 22,
      "outputs": [
        {
          "output_type": "display_data",
          "data": {
            "text/plain": [
              "<Figure size 1850x600 with 10 Axes>"
            ],
            "image/png": "[encoded data removed]"
          },
          "metadata": {}
        }
      ]
    },
    {
      "cell_type": "markdown",
      "source": [
        "Even though we used a very basic VAE model, we notice that it struggles to generate images that are faithful to reality. That's why we will continue with GANs."
      ],
      "metadata": {
        "id": "5LAcgd23Gqs1"
      }
    },
    {
      "cell_type": "markdown",
      "source": [
        "---------------------------------------------------------------------------\n",
        "----------------CONV-------------------\n"
      ],
      "metadata": {
        "id": "xWyMX8a_hfq8"
      }
    },
    {
      "cell_type": "code",
      "source": [
        "custom_image_path = None\n",
        "batch_size = 128"
      ],
      "metadata": {
        "id": "LHgmMTspuQYX"
      },
      "execution_count": 23,
      "outputs": []
    },
    {
      "cell_type": "code",
      "source": [
        "images = next(iter(data_loader))\n",
        "plt.imshow(images[0].squeeze(), 'gray')\n",
        "plt.show()"
      ],
      "metadata": {
        "id": "E-ol2nkQuQjP",
        "outputId": "27792b97-0cbd-44d1-d8e8-74d263902c9b",
        "colab": {
          "base_uri": "https://localhost:8080/",
          "height": 430
        }
      },
      "execution_count": 24,
      "outputs": [
        {
          "output_type": "display_data",
          "data": {
            "text/plain": [
              "<Figure size 640x480 with 1 Axes>"
            ],
            "image/png": "[encoded data removed]"
          },
          "metadata": {}
        }
      ]
    },
    {
      "cell_type": "code",
      "source": [
        "images.shape"
      ],
      "metadata": {
        "id": "4K7tof7DuQoX",
        "outputId": "dc24bd0f-5c66-49b7-fa3b-51c1ffa4fd77",
        "colab": {
          "base_uri": "https://localhost:8080/"
        }
      },
      "execution_count": 25,
      "outputs": [
        {
          "output_type": "execute_result",
          "data": {
            "text/plain": [
              "torch.Size([128, 1, 32, 32])"
            ]
          },
          "metadata": {},
          "execution_count": 25
        }
      ]
    },
    {
      "cell_type": "code",
      "source": [
        "from sklearn.metrics import accuracy_score\n",
        "from sklearn.model_selection import StratifiedShuffleSplit\n",
        "\n",
        "from livelossplot import PlotLosses\n",
        "\n",
        "import torch\n",
        "import torch.nn as nn\n",
        "import torch.nn.functional as F\n",
        "from torch.autograd import Variable\n",
        "from torch.utils.data import TensorDataset, DataLoader\n",
        "import torchvision.transforms as transforms\n",
        "from torchvision.datasets import MNIST\n",
        "\n",
        "import random\n",
        "def set_seed(seed):\n",
        "    \"\"\"\n",
        "    Use this to set ALL the random seeds to a fixed value and take out any randomness from cuda kernels\n",
        "    \"\"\"\n",
        "    random.seed(seed)\n",
        "    np.random.seed(seed)\n",
        "    torch.manual_seed(seed)\n",
        "    torch.cuda.manual_seed_all(seed)\n",
        "\n",
        "    torch.backends.cudnn.benchmark = False  ##uses the inbuilt cudnn auto-tuner to find the fastest convolution algorithms. -\n",
        "    torch.backends.cudnn.enabled   = False\n",
        "\n",
        "    return True\n",
        "\n",
        "device = 'cpu'\n",
        "if torch.cuda.device_count() > 0 and torch.cuda.is_available():\n",
        "    print(\"Cuda installed! Running on GPU!\")\n",
        "    device = 'cuda'\n",
        "else:\n",
        "    print(\"No GPU available!\")"
      ],
      "metadata": {
        "id": "Wu6NUQWCuQrY",
        "outputId": "62ef370f-90f6-4690-a528-51bdfb7dc503",
        "colab": {
          "base_uri": "https://localhost:8080/"
        }
      },
      "execution_count": 26,
      "outputs": [
        {
          "output_type": "stream",
          "name": "stdout",
          "text": [
            "Cuda installed! Running on GPU!\n"
          ]
        }
      ]
    },
    {
      "cell_type": "code",
      "source": [
        "class Generator(nn.Module):\n",
        "    def __init__(self, latent_dim=100):\n",
        "        super().__init__()\n",
        "        self.init_size = 8 #Initial size before upscaling\n",
        "\n",
        "        self.l1 = nn.Sequential(nn.Linear(latent_dim, 128 * self.init_size ** 2))\n",
        "\n",
        "        #Layer to start the convolution\n",
        "        self.start_conv = nn.Sequential(\n",
        "            nn.BatchNorm2d(128),\n",
        "            nn.LeakyReLU(0.2, inplace=True)\n",
        "        )\n",
        "\n",
        "        #upsampling with ConvTranspose2d\n",
        "        self.conv_block1 = nn.Sequential(\n",
        "            nn.ConvTranspose2d(128, 128, kernel_size=4, stride=2, padding=1),\n",
        "            nn.BatchNorm2d(128),\n",
        "            nn.LeakyReLU(0.2, inplace=True)\n",
        "        )\n",
        "\n",
        "\n",
        "        self.conv_block2 = nn.Sequential(\n",
        "            nn.ConvTranspose2d(128, 64, kernel_size=4, stride=2, padding=1),\n",
        "            nn.BatchNorm2d(64),\n",
        "            nn.LeakyReLU(0.2, inplace=True)\n",
        "        )\n",
        "\n",
        "        #output\n",
        "        self.out_conv = nn.Sequential(\n",
        "            nn.Conv2d(64, 32, kernel_size=3, stride=1, padding=1),\n",
        "            nn.BatchNorm2d(32),\n",
        "            nn.LeakyReLU(0.2, inplace=True),\n",
        "            nn.Conv2d(32, 1, kernel_size=3, stride=1, padding=1),\n",
        "            nn.Tanh()  #values are between -1 and 1\n",
        "        )\n",
        "\n",
        "    def forward(self, z):\n",
        "        out = self.l1(z)\n",
        "        out = out.view(out.shape[0], 128, self.init_size, self.init_size)\n",
        "        out = self.start_conv(out)\n",
        "        out = self.conv_block1(out)\n",
        "        out = self.conv_block2(out)\n",
        "        img = self.out_conv(out)\n",
        "        return img\n",
        "\n",
        "\n",
        "class Discriminator(nn.Module):\n",
        "    def __init__(self):\n",
        "        super(Discriminator, self).__init__()\n",
        "\n",
        "        #input layer\n",
        "        self.conv1 = nn.Conv2d(1, 16, 3, 2, 1)\n",
        "        self.lrelu1 = nn.LeakyReLU(0.2, inplace=True)\n",
        "\n",
        "        #hidden layer 1\n",
        "        self.conv2 = nn.Conv2d(16, 32, 3, 2, 1)\n",
        "        self.lrelu2 = nn.LeakyReLU(0.2, inplace=True)\n",
        "        self.drop2 = nn.Dropout2d(0.1)\n",
        "        self.bn2 = nn.BatchNorm2d(32)\n",
        "\n",
        "        #hidden layer 2\n",
        "        self.conv3 = nn.Conv2d(32, 64, 3, 2, 1)\n",
        "        self.lrelu3 = nn.LeakyReLU(0.2, inplace=True)\n",
        "        self.drop3 = nn.Dropout2d(0.1)\n",
        "        self.bn3 = nn.BatchNorm2d(64)\n",
        "\n",
        "        # Hidden layer 3\n",
        "        self.conv4 = nn.Conv2d(64, 128, 3, 2, 1)\n",
        "        self.lrelu4 = nn.LeakyReLU(0.2, inplace=True)\n",
        "        self.drop4 = nn.Dropout2d(0.1)\n",
        "        self.bn4 = nn.BatchNorm2d(128)\n",
        "\n",
        "        #final\n",
        "        self.val_layer = nn.Sequential(\n",
        "            nn.Linear(128 * 2 * 2, 1),\n",
        "            nn.Sigmoid()\n",
        "        )\n",
        "\n",
        "    def forward(self, img):\n",
        "        out = self.lrelu1(self.conv1(img))\n",
        "        out = self.bn2(self.drop2(self.lrelu2(self.conv2(out))))\n",
        "        out = self.bn3(self.drop3(self.lrelu3(self.conv3(out))))\n",
        "        out = self.bn4(self.drop4(self.lrelu4(self.conv4(out))))\n",
        "        out = out.view(out.shape[0], -1)\n",
        "        validity = self.val_layer(out)\n",
        "\n",
        "        return validity\n",
        "\n",
        "G = Generator().to(device)\n",
        "D = Discriminator().to(device)"
      ],
      "metadata": {
        "id": "U0axFYczBYNB"
      },
      "execution_count": 78,
      "outputs": []
    },
    {
      "cell_type": "code",
      "source": [
        "D"
      ],
      "metadata": {
        "id": "eCsVpAJFG2zN",
        "outputId": "9001715d-3daf-4dd1-df7e-e495019fa556",
        "colab": {
          "base_uri": "https://localhost:8080/"
        }
      },
      "execution_count": 72,
      "outputs": [
        {
          "output_type": "execute_result",
          "data": {
            "text/plain": [
              "Discriminator(\n",
              "  (conv1): Conv2d(1, 16, kernel_size=(3, 3), stride=(2, 2), padding=(1, 1))\n",
              "  (lrelu1): LeakyReLU(negative_slope=0.2, inplace=True)\n",
              "  (conv2): Conv2d(16, 32, kernel_size=(3, 3), stride=(2, 2), padding=(1, 1))\n",
              "  (lrelu2): LeakyReLU(negative_slope=0.2, inplace=True)\n",
              "  (drop2): Dropout2d(p=0.1, inplace=False)\n",
              "  (bn2): BatchNorm2d(32, eps=1e-05, momentum=0.1, affine=True, track_running_stats=True)\n",
              "  (conv3): Conv2d(32, 64, kernel_size=(3, 3), stride=(2, 2), padding=(1, 1))\n",
              "  (lrelu3): LeakyReLU(negative_slope=0.2, inplace=True)\n",
              "  (drop3): Dropout2d(p=0.1, inplace=False)\n",
              "  (bn3): BatchNorm2d(64, eps=1e-05, momentum=0.1, affine=True, track_running_stats=True)\n",
              "  (conv4): Conv2d(64, 128, kernel_size=(3, 3), stride=(2, 2), padding=(1, 1))\n",
              "  (lrelu4): LeakyReLU(negative_slope=0.2, inplace=True)\n",
              "  (drop4): Dropout2d(p=0.1, inplace=False)\n",
              "  (bn4): BatchNorm2d(128, eps=1e-05, momentum=0.1, affine=True, track_running_stats=True)\n",
              "  (val_layer): Sequential(\n",
              "    (0): Linear(in_features=512, out_features=1, bias=True)\n",
              "    (1): Sigmoid()\n",
              "  )\n",
              ")"
            ]
          },
          "metadata": {},
          "execution_count": 72
        }
      ]
    },
    {
      "cell_type": "code",
      "source": [
        "def D_train(x):\n",
        "    #-------------- Function of the discriminator training -------------------#\n",
        "    D.train()\n",
        "    D_optimizer.zero_grad()\n",
        "\n",
        "    # train discriminator on real data -- assign high score (use 1 here)\n",
        "    current_bs = x.size(0) #taking into account differences in size\n",
        "    x_real, y_real = x.view(-1,1, 32,32), torch.ones(current_bs, 1)  # we are assigning the label 'real data' to the samples (don't care anymore about what number they are)\n",
        "    x_real, y_real = x_real.to(device), y_real.to(device)\n",
        "\n",
        "    D_output = D(x_real)\n",
        "    D_real_loss = criterion(D_output, y_real)\n",
        "\n",
        "    # train discriminator on fake data -- assign low score (use 0 here)\n",
        "    # sample vector and produce generator output\n",
        "    z = torch.randn(current_bs, z_dim).to(device)\n",
        "    x_fake, y_fake = G(z), torch.zeros(current_bs, 1).to(device)\n",
        "\n",
        "    D_output = D(x_fake)\n",
        "    D_fake_loss = criterion(D_output, y_fake)\n",
        "\n",
        "    # combine the losses\n",
        "    D_loss = D_real_loss + D_fake_loss\n",
        "\n",
        "    # model update\n",
        "    D_loss.backward()\n",
        "    D_optimizer.step()\n",
        "\n",
        "    return  D_loss.data.item()"
      ],
      "metadata": {
        "id": "7WiT8Qp98GsJ"
      },
      "execution_count": 73,
      "outputs": []
    },
    {
      "cell_type": "code",
      "source": [
        "def G_train(x):\n",
        "    #-------------- Function of the generator training -------------------#\n",
        "    G.train()\n",
        "    G_optimizer.zero_grad()\n",
        "    current_bs = x.size(0) #taking into account differences in size\n",
        "    # sample vector and produce generator output\n",
        "    z = torch.randn(current_bs, z_dim).to(device)\n",
        "    G_output = G(z)\n",
        "\n",
        "    # obtain scores from D for the generated data\n",
        "    D_output = D(G_output)\n",
        "\n",
        "    # train generator to \"fool\" discriminator\n",
        "\n",
        "    y = torch.ones(current_bs, 1).to(device)\n",
        "    G_loss = criterion(D_output, y)\n",
        "\n",
        "    # model update\n",
        "    G_loss.backward()\n",
        "    G_optimizer.step()\n",
        "\n",
        "    return G_loss.data.item()"
      ],
      "metadata": {
        "id": "5ng561Jn8GxZ"
      },
      "execution_count": 74,
      "outputs": []
    },
    {
      "cell_type": "code",
      "source": [
        "criterion = nn.BCELoss()\n",
        "z_dim = 100\n",
        "bs = 128  ## batch_size\n",
        "\n",
        "lr = 0.0002\n",
        "G_optimizer = torch.optim.Adam(G.parameters(), lr = lr)\n",
        "D_optimizer = torch.optim.Adam(D.parameters(), lr = lr)"
      ],
      "metadata": {
        "id": "ac6nh5uWLVpM"
      },
      "execution_count": 57,
      "outputs": []
    },
    {
      "cell_type": "markdown",
      "source": [
        "We increase the learning rate to see the effect on our model"
      ],
      "metadata": {
        "id": "qtznIB8nK0JR"
      }
    },
    {
      "cell_type": "code",
      "source": [
        "G = Generator().to(device)\n",
        "D = Discriminator().to(device)"
      ],
      "metadata": {
        "id": "CSduwIVILmfY"
      },
      "execution_count": 58,
      "outputs": []
    },
    {
      "cell_type": "code",
      "source": [
        "n_epoch = 10\n",
        "groups = {'Loss': ['D_Loss', 'G_Loss']}\n",
        "liveloss = PlotLosses(groups=groups)\n",
        "\n",
        "for epoch in range(1, n_epoch+1):\n",
        "  D_losses, G_losses = [], []\n",
        "  logs = {}\n",
        "  for batch_idx, x in enumerate(data_loader):\n",
        "    logs['D_Loss'] = D_train(x)\n",
        "    logs['G_Loss'] = G_train(x)\n",
        "  liveloss.update(logs)\n",
        "  liveloss.draw()\n",
        "\n",
        "  # save every 20th epochs\n",
        "  if(np.mod(epoch, 20) == 0):\n",
        "    torch.save(G.state_dict(), \"./Generator_{:03d}.pth\".format(epoch))"
      ],
      "metadata": {
        "id": "_gd0Ehi4LrCO",
        "outputId": "23987992-ffad-4dc9-bd13-e5eccf97f428",
        "colab": {
          "base_uri": "https://localhost:8080/",
          "height": 859
        }
      },
      "execution_count": 59,
      "outputs": [
        {
          "output_type": "display_data",
          "data": {
            "text/plain": [
              "<Figure size 1200x800 with 2 Axes>"
            ],
            "image/png": "[encoded data removed]"
          },
          "metadata": {}
        },
        {
          "output_type": "stream",
          "name": "stdout",
          "text": [
            "Loss\n",
            "\tD_Loss           \t (min:    1.380, max:    1.478, cur:    1.380)\n",
            "\tG_Loss           \t (min:    0.672, max:    0.760, cur:    0.687)\n"
          ]
        }
      ]
    },
    {
      "cell_type": "markdown",
      "source": [
        "We can see that our discriminator outweighs our generator, which is not good for our model."
      ],
      "metadata": {
        "id": "Nvz7TrHeL3H7"
      }
    },
    {
      "cell_type": "markdown",
      "source": [
        "We're going to try and reduce our learning rate now"
      ],
      "metadata": {
        "id": "xFP6P1hDMMuW"
      }
    },
    {
      "cell_type": "code",
      "source": [
        "criterion = nn.BCELoss()\n",
        "z_dim = 100\n",
        "bs = 128  ## batch_size\n",
        "\n",
        "lr = 0.00005\n",
        "G_optimizer = torch.optim.Adam(G.parameters(), lr = lr)\n",
        "D_optimizer = torch.optim.Adam(D.parameters(), lr = lr)"
      ],
      "metadata": {
        "id": "pOYHHwuyMEvV"
      },
      "execution_count": 60,
      "outputs": []
    },
    {
      "cell_type": "code",
      "source": [
        "G = Generator().to(device)\n",
        "D = Discriminator().to(device)"
      ],
      "metadata": {
        "id": "kVvRI9JIMX97"
      },
      "execution_count": 61,
      "outputs": []
    },
    {
      "cell_type": "code",
      "source": [
        "n_epoch = 10\n",
        "groups = {'Loss': ['D_Loss', 'G_Loss']}\n",
        "liveloss = PlotLosses(groups=groups)\n",
        "\n",
        "for epoch in range(1, n_epoch+1):\n",
        "  D_losses, G_losses = [], []\n",
        "  logs = {}\n",
        "  for batch_idx, x in enumerate(data_loader):\n",
        "    logs['D_Loss'] = D_train(x)\n",
        "    logs['G_Loss'] = G_train(x)\n",
        "  liveloss.update(logs)\n",
        "  liveloss.draw()\n",
        "\n",
        "  # save every 20th epochs\n",
        "  if(np.mod(epoch, 20) == 0):\n",
        "    torch.save(G.state_dict(), \"./Generator_{:03d}.pth\".format(epoch))"
      ],
      "metadata": {
        "id": "-Il6RAJ-MYQE",
        "outputId": "e38d2e8c-9fa4-45af-9a8c-5fa066e07552",
        "colab": {
          "base_uri": "https://localhost:8080/",
          "height": 859
        }
      },
      "execution_count": 62,
      "outputs": [
        {
          "output_type": "display_data",
          "data": {
            "text/plain": [
              "<Figure size 1200x800 with 2 Axes>"
            ],
            "image/png": "[encoded data removed]"
          },
          "metadata": {}
        },
        {
          "output_type": "stream",
          "name": "stdout",
          "text": [
            "Loss\n",
            "\tD_Loss           \t (min:    1.451, max:    1.556, cur:    1.534)\n",
            "\tG_Loss           \t (min:    0.687, max:    0.776, cur:    0.713)\n"
          ]
        }
      ]
    },
    {
      "cell_type": "markdown",
      "source": [
        "We can make the same observation as before"
      ],
      "metadata": {
        "id": "d1nuBEVdMvUL"
      }
    },
    {
      "cell_type": "markdown",
      "source": [
        "**We will therefore keep the following parameters:**"
      ],
      "metadata": {
        "id": "0MMGnU9PM5dR"
      }
    },
    {
      "cell_type": "code",
      "source": [
        "# define loss\n",
        "criterion = nn.BCELoss()\n",
        "z_dim = 100\n",
        "bs = 128  # batch_size\n",
        "\n",
        "lr = 0.0001\n",
        "\n",
        "G_optimizer = torch.optim.Adam(G.parameters(), lr = lr)\n",
        "D_optimizer = torch.optim.Adam(D.parameters(), lr = lr)"
      ],
      "metadata": {
        "id": "taiKI0BlM2kY"
      },
      "execution_count": 82,
      "outputs": []
    },
    {
      "cell_type": "markdown",
      "source": [
        "**We then try to find the best combination of Dropout2d, BatchNorm2d, LeakyReLU, etc. to give us the best results. **\n",
        "\n"
      ],
      "metadata": {
        "id": "aZFsu7BmN-0P"
      }
    },
    {
      "cell_type": "code",
      "source": [
        "class Generator(nn.Module):\n",
        "    def __init__(self, latent_dim=100):\n",
        "        super().__init__()\n",
        "        self.init_size = 8 #Initial size before upscaling\n",
        "\n",
        "        self.l1 = nn.Sequential(nn.Linear(latent_dim, 128 * self.init_size ** 2))\n",
        "\n",
        "        #Layer to start the convolution\n",
        "        self.start_conv = nn.Sequential(\n",
        "            nn.BatchNorm2d(128),\n",
        "            nn.LeakyReLU(0.2, inplace=True)\n",
        "        )\n",
        "\n",
        "        #upsampling with ConvTranspose2d\n",
        "        self.conv_block1 = nn.Sequential(\n",
        "            nn.ConvTranspose2d(128, 128, kernel_size=4, stride=2, padding=1),\n",
        "            nn.BatchNorm2d(128),\n",
        "            nn.LeakyReLU(0.2, inplace=True)\n",
        "        )\n",
        "\n",
        "\n",
        "        self.conv_block2 = nn.Sequential(\n",
        "            nn.ConvTranspose2d(128, 64, kernel_size=4, stride=2, padding=1),\n",
        "            nn.BatchNorm2d(64),\n",
        "            nn.LeakyReLU(0.2, inplace=True)\n",
        "        )\n",
        "\n",
        "        #output\n",
        "        self.out_conv = nn.Sequential(\n",
        "            nn.Conv2d(64, 32, kernel_size=3, stride=1, padding=1),\n",
        "            nn.BatchNorm2d(32),\n",
        "            nn.LeakyReLU(0.2, inplace=True),\n",
        "            nn.Conv2d(32, 1, kernel_size=3, stride=1, padding=1),\n",
        "            nn.Tanh()  #values are between -1 and 1\n",
        "        )\n",
        "\n",
        "    def forward(self, z):\n",
        "        out = self.l1(z)\n",
        "        out = out.view(out.shape[0], 128, self.init_size, self.init_size)\n",
        "        out = self.start_conv(out)\n",
        "        out = self.conv_block1(out)\n",
        "        out = self.conv_block2(out)\n",
        "        img = self.out_conv(out)\n",
        "        return img\n",
        "\n",
        "\n",
        "class Discriminator(nn.Module):\n",
        "    def __init__(self):\n",
        "        super(Discriminator, self).__init__()\n",
        "\n",
        "        #input layer\n",
        "        self.conv1 = nn.Conv2d(1, 16, 3, 2, 1)\n",
        "        self.lrelu1 = nn.LeakyReLU(0.2, inplace=True)\n",
        "\n",
        "        #hidden layer 1\n",
        "        self.conv2 = nn.Conv2d(16, 32, 3, 2, 1)\n",
        "        self.lrelu2 = nn.LeakyReLU(0.2, inplace=True)\n",
        "        self.drop2 = nn.Dropout2d(0.1)\n",
        "        self.bn2 = nn.BatchNorm2d(32)\n",
        "\n",
        "        #hidden layer 2\n",
        "        self.conv3 = nn.Conv2d(32, 64, 3, 2, 1)\n",
        "        self.lrelu3 = nn.LeakyReLU(0.2, inplace=True)\n",
        "        self.drop3 = nn.Dropout2d(0.1)\n",
        "        self.bn3 = nn.BatchNorm2d(64)\n",
        "\n",
        "        # Hidden layer 3\n",
        "        self.conv4 = nn.Conv2d(64, 128, 3, 2, 1)\n",
        "        self.lrelu4 = nn.LeakyReLU(0.2, inplace=True)\n",
        "        self.drop4 = nn.Dropout2d(0.1)\n",
        "        self.bn4 = nn.BatchNorm2d(128)\n",
        "\n",
        "        #final\n",
        "        self.val_layer = nn.Sequential(\n",
        "            nn.Linear(128 * 2 * 2, 1),\n",
        "            nn.Sigmoid()\n",
        "        )\n",
        "\n",
        "    def forward(self, img):\n",
        "        out = self.lrelu1(self.conv1(img))\n",
        "        out = self.bn2(self.drop2(self.lrelu2(self.conv2(out))))\n",
        "        out = self.bn3(self.drop3(self.lrelu3(self.conv3(out))))\n",
        "        out = self.bn4(self.drop4(self.lrelu4(self.conv4(out))))\n",
        "        out = out.view(out.shape[0], -1)\n",
        "        validity = self.val_layer(out)\n",
        "\n",
        "        return validity\n",
        "\n",
        "\n",
        "G = Generator().to(device)\n",
        "D = Discriminator().to(device)"
      ],
      "metadata": {
        "id": "pExFfeoWM2qE"
      },
      "execution_count": 83,
      "outputs": []
    },
    {
      "cell_type": "code",
      "source": [
        "def D_train(x):\n",
        "    #-------------- Function of the discriminator training -------------------#\n",
        "    D.train()\n",
        "    D_optimizer.zero_grad()\n",
        "\n",
        "    # train discriminator on real data -- assign high score (use 1 here)\n",
        "    current_bs = x.size(0) #taking into account differences in size\n",
        "    x_real, y_real = x.view(-1,1, 32,32), torch.ones(current_bs, 1)  # we are assigning the label 'real data' to the samples (don't care anymore about what number they are)\n",
        "    x_real, y_real = x_real.to(device), y_real.to(device)\n",
        "\n",
        "    D_output = D(x_real)\n",
        "    D_real_loss = criterion(D_output, y_real)\n",
        "\n",
        "    # train discriminator on fake data -- assign low score (use 0 here)\n",
        "    # sample vector and produce generator output\n",
        "    z = torch.randn(current_bs, z_dim).to(device)\n",
        "    x_fake, y_fake = G(z), torch.zeros(current_bs, 1).to(device)\n",
        "\n",
        "    D_output = D(x_fake)\n",
        "    D_fake_loss = criterion(D_output, y_fake)\n",
        "\n",
        "    # combine the losses\n",
        "    D_loss = D_real_loss + D_fake_loss\n",
        "\n",
        "    # model update\n",
        "    D_loss.backward()\n",
        "    D_optimizer.step()\n",
        "\n",
        "    return  D_loss.data.item()"
      ],
      "metadata": {
        "id": "dWGAjb9DUkXx"
      },
      "execution_count": 84,
      "outputs": []
    },
    {
      "cell_type": "code",
      "source": [
        "def G_train(x):\n",
        "    #-------------- Function of the generator training -------------------#\n",
        "    G.train()\n",
        "    G_optimizer.zero_grad()\n",
        "    current_bs = x.size(0) #taking into account differences in size\n",
        "    # sample vector and produce generator output\n",
        "    z = torch.randn(current_bs, z_dim).to(device)\n",
        "    G_output = G(z)\n",
        "\n",
        "    # obtain scores from D for the generated data\n",
        "    D_output = D(G_output)\n",
        "\n",
        "    # train generator to \"fool\" discriminator\n",
        "\n",
        "    y = torch.ones(current_bs, 1).to(device)\n",
        "    G_loss = criterion(D_output, y)\n",
        "\n",
        "    # model update\n",
        "    G_loss.backward()\n",
        "    G_optimizer.step()\n",
        "\n",
        "    return G_loss.data.item()"
      ],
      "metadata": {
        "id": "WRHdSRYLUkak"
      },
      "execution_count": 85,
      "outputs": []
    },
    {
      "cell_type": "code",
      "source": [
        "# define loss\n",
        "criterion = nn.BCELoss()\n",
        "z_dim = 100\n",
        "bs = 128  # batch_size\n",
        "\n",
        "lr = 0.0001\n",
        "\n",
        "G_optimizer = torch.optim.Adam(G.parameters(), lr = lr)\n",
        "D_optimizer = torch.optim.Adam(D.parameters(), lr = lr)"
      ],
      "metadata": {
        "id": "4bdhZ5XBUkdX"
      },
      "execution_count": 86,
      "outputs": []
    },
    {
      "cell_type": "code",
      "source": [
        "n_epoch = 10\n",
        "groups = {'Loss': ['D_Loss', 'G_Loss']}\n",
        "liveloss = PlotLosses(groups=groups)\n",
        "\n",
        "for epoch in range(1, n_epoch+1):\n",
        "  D_losses, G_losses = [], []\n",
        "  logs = {}\n",
        "  for batch_idx, x in enumerate(data_loader):\n",
        "    logs['D_Loss'] = D_train(x)\n",
        "    logs['G_Loss'] = G_train(x)\n",
        "  liveloss.update(logs)\n",
        "  liveloss.draw()\n",
        "\n",
        "  # save every 20th epochs\n",
        "  if(np.mod(epoch, 20) == 0):\n",
        "    torch.save(G.state_dict(), \"./Generator_{:03d}.pth\".format(epoch))"
      ],
      "metadata": {
        "id": "6Aipfb48UwNK",
        "outputId": "3203c742-5060-4842-bde9-a3b265f6be0c",
        "colab": {
          "base_uri": "https://localhost:8080/",
          "height": 859
        }
      },
      "execution_count": 87,
      "outputs": [
        {
          "output_type": "display_data",
          "data": {
            "text/plain": [
              "<Figure size 1200x800 with 2 Axes>"
            ],
            "image/png": "[encoded data removed]"
          },
          "metadata": {}
        },
        {
          "output_type": "stream",
          "name": "stdout",
          "text": [
            "Loss\n",
            "\tD_Loss           \t (min:    0.091, max:    1.123, cur:    1.090)\n",
            "\tG_Loss           \t (min:    0.663, max:    3.338, cur:    1.387)\n"
          ]
        }
      ]
    },
    {
      "cell_type": "markdown",
      "source": [
        "**We're keeping this model because it seems to be converging (the architecture is explained in the main notebook).**"
      ],
      "metadata": {
        "id": "W7mupIo-VE_u"
      }
    },
    {
      "cell_type": "code",
      "source": [],
      "metadata": {
        "id": "ctn83cejUwRO"
      },
      "execution_count": null,
      "outputs": []
    }
  ]
}